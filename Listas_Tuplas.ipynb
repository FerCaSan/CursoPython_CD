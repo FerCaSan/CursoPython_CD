{
 "cells": [
  {
   "cell_type": "markdown",
   "metadata": {},
   "source": [
    "<img src= 'http://www.profesorantonio.com/index_htm_files/4451.png' width = 100>"
   ]
  },
  {
   "cell_type": "markdown",
   "metadata": {},
   "source": [
    "# Listas"
   ]
  },
  {
   "cell_type": "code",
   "execution_count": 28,
   "metadata": {},
   "outputs": [],
   "source": [
    "Lista0= [10,21,32,43,54]"
   ]
  },
  {
   "cell_type": "code",
   "execution_count": 29,
   "metadata": {},
   "outputs": [
    {
     "name": "stdout",
     "output_type": "stream",
     "text": [
      "[10, 21, 32, 43, 54]\n"
     ]
    }
   ],
   "source": [
    "print(Lista0)"
   ]
  },
  {
   "cell_type": "markdown",
   "metadata": {},
   "source": [
    "Imprimir un elemento de la lista"
   ]
  },
  {
   "cell_type": "code",
   "execution_count": 30,
   "metadata": {},
   "outputs": [
    {
     "name": "stdout",
     "output_type": "stream",
     "text": [
      "32\n"
     ]
    }
   ],
   "source": [
    "print(Lista0[2])"
   ]
  },
  {
   "cell_type": "markdown",
   "metadata": {},
   "source": [
    "Imprimir un rango en una lista"
   ]
  },
  {
   "cell_type": "code",
   "execution_count": 31,
   "metadata": {},
   "outputs": [
    {
     "name": "stdout",
     "output_type": "stream",
     "text": [
      "ListaRango:  [0, 1, 2, 3, 4]\n"
     ]
    }
   ],
   "source": [
    "print(\"ListaRango: \", list(range(5)))"
   ]
  },
  {
   "cell_type": "markdown",
   "metadata": {},
   "source": [
    "Imprimir último elemento de la lista"
   ]
  },
  {
   "cell_type": "code",
   "execution_count": 32,
   "metadata": {},
   "outputs": [
    {
     "name": "stdout",
     "output_type": "stream",
     "text": [
      "54\n"
     ]
    }
   ],
   "source": [
    "print(Lista0[-1])"
   ]
  },
  {
   "cell_type": "markdown",
   "metadata": {},
   "source": [
    "Slicing"
   ]
  },
  {
   "cell_type": "code",
   "execution_count": 33,
   "metadata": {},
   "outputs": [
    {
     "name": "stdout",
     "output_type": "stream",
     "text": [
      "Slicing0:  [21, False, 32, 43, 54, 'Test']\n"
     ]
    }
   ],
   "source": [
    "Lista1 = ['HiCD',10,21,False,32,43,54,'Test',78,91,True,108,125]\n",
    "print(\"Slicing0: \",Lista1[2:8])"
   ]
  },
  {
   "cell_type": "code",
   "execution_count": 34,
   "metadata": {},
   "outputs": [
    {
     "name": "stdout",
     "output_type": "stream",
     "text": [
      "Slicing1:  [21, 32, 54]\n"
     ]
    }
   ],
   "source": [
    "print(\"Slicing1: \",Lista1[2:8:2])"
   ]
  },
  {
   "cell_type": "code",
   "execution_count": 35,
   "metadata": {},
   "outputs": [
    {
     "name": "stdout",
     "output_type": "stream",
     "text": [
      "Slicing2:  [21, False, 32, 43, 54, 'Test', 78, 91, True, 108, 125]\n"
     ]
    }
   ],
   "source": [
    "print(\"Slicing2: \",Lista1[2:])"
   ]
  },
  {
   "cell_type": "markdown",
   "metadata": {},
   "source": [
    "Combinar listas"
   ]
  },
  {
   "cell_type": "code",
   "execution_count": 36,
   "metadata": {},
   "outputs": [
    {
     "name": "stdout",
     "output_type": "stream",
     "text": [
      "ListaCombinada2:  [[10, 21, 32, 43, 54], ['HiCD', 10, 21, False, 32, 43, 54, 'Test', 78, 91, True, 108, 125]]\n"
     ]
    }
   ],
   "source": [
    "Lista2 = [Lista0,Lista1]\n",
    "print(\"ListaCombinada2: \", Lista2)"
   ]
  },
  {
   "cell_type": "code",
   "execution_count": 37,
   "metadata": {},
   "outputs": [
    {
     "name": "stdout",
     "output_type": "stream",
     "text": [
      "ListaCombinada3:  [10, 21, 32, 43, 54, 'HiCD', 10, 21, False, 32, 43, 54, 'Test', 78, 91, True, 108, 125]\n"
     ]
    }
   ],
   "source": [
    "Lista3 = Lista0 + Lista1\n",
    "print(\"ListaCombinada3: \", Lista3)"
   ]
  },
  {
   "cell_type": "markdown",
   "metadata": {},
   "source": [
    "Editar Listas - Agregar elemento"
   ]
  },
  {
   "cell_type": "code",
   "execution_count": 38,
   "metadata": {},
   "outputs": [
    {
     "name": "stdout",
     "output_type": "stream",
     "text": [
      "ListaCombinada3Agr-1:  [10, 21, 32, 43, 54, 'HiCD', 10, 21, False, 32, 43, 54, 'Test', 78, 91, True, 108, 125, 'Agregado']\n"
     ]
    }
   ],
   "source": [
    "Lista3 += [\"Agregado\"]\n",
    "print(\"ListaCombinada3Agr-1: \", Lista3)"
   ]
  },
  {
   "cell_type": "code",
   "execution_count": 39,
   "metadata": {},
   "outputs": [
    {
     "name": "stdout",
     "output_type": "stream",
     "text": [
      "ListaCombinadaAgr0:  ['Agregado0', 10, 21, 32, 43, 54, 'HiCD', 10, 21, False, 32, 43, 54, 'Test', 78, 91, True, 108, 125, 'Agregado']\n"
     ]
    }
   ],
   "source": [
    "Lista3 = [\"Agregado0\"] + Lista3\n",
    "print(\"ListaCombinadaAgr0: \", Lista3)"
   ]
  },
  {
   "cell_type": "markdown",
   "metadata": {},
   "source": [
    "Editar Listas - Modificar elemento"
   ]
  },
  {
   "cell_type": "code",
   "execution_count": 41,
   "metadata": {},
   "outputs": [
    {
     "name": "stdout",
     "output_type": "stream",
     "text": [
      "ListaCombinadaAgr0:  ['Agregado0', 10, 21, 32, 43, 54, 'HiCD', 10, 21, False, 32, 43, 54, 'Test', 78, 91, True, 108, 125, ['AgregadoUlti']]\n"
     ]
    }
   ],
   "source": [
    "Lista3[-1] = [\"AgregadoUlti\"]\n",
    "print(\"ListaCombinadaAgr0: \", Lista3)"
   ]
  },
  {
   "cell_type": "markdown",
   "metadata": {},
   "source": [
    "## Tuplas"
   ]
  },
  {
   "cell_type": "code",
   "execution_count": null,
   "metadata": {},
   "outputs": [
    {
     "evalue": "Error: Failed to connect to Jupyter notebook. \r\nhttp://localhost:8888/\r\nError: Invalid response: 500 Internal Server Error",
     "output_type": "error"
    }
   ],
   "source": [
    "Tupla0 = ('HiCD',10,21,False,32,43,54,'Test',78,91,True,108,125)"
   ]
  },
  {
   "cell_type": "code",
   "execution_count": 46,
   "metadata": {},
   "outputs": [
    {
     "name": "stdout",
     "output_type": "stream",
     "text": [
      "Slicing0:  (21, False, 32, 43, 54, 'Test')\n"
     ]
    }
   ],
   "source": [
    "print(\"Slicing0: \",Tupla0[2:8])"
   ]
  },
  {
   "cell_type": "code",
   "execution_count": null,
   "metadata": {},
   "outputs": [],
   "source": [
    "print(\"Slicing0: \",Tupla0[2:8:3])"
   ]
  },
  {
   "cell_type": "markdown",
   "metadata": {},
   "source": [
    "## Diferencias entre listas y tuplas\n",
    "*https://pythones.net/listas-y-tuplas-sintaxis-metodos/#Diferencias_y_similitudes_entre_listas_y_tuplas"
   ]
  },
  {
   "cell_type": "markdown",
   "metadata": {},
   "source": [
    "<img src= 'Dif_Lista_Tupla.PNG' width = 550>"
   ]
  },
  {
   "cell_type": "code",
   "execution_count": null,
   "metadata": {},
   "outputs": [],
   "source": []
  }
 ],
 "metadata": {
  "kernelspec": {
   "display_name": "Python 3",
   "language": "python",
   "name": "python3"
  },
  "language_info": {
   "codemirror_mode": {
    "name": "ipython",
    "version": 3
   },
   "file_extension": ".py",
   "mimetype": "text/x-python",
   "name": "python",
   "nbconvert_exporter": "python",
   "pygments_lexer": "ipython3",
   "version": "3.6.4"
  }
 },
 "nbformat": 4,
 "nbformat_minor": 2
}