{
 "cells": [
  {
   "cell_type": "markdown",
   "metadata": {},
   "source": [
    "<img src= 'http://www.profesorantonio.com/index_htm_files/4451.png' width = 100>"
   ]
  },
  {
   "cell_type": "markdown",
   "metadata": {},
   "source": [
    "## Declaraciones"
   ]
  },
  {
   "cell_type": "code",
   "execution_count": 11,
   "metadata": {},
   "outputs": [],
   "source": [
    "import numpy as np #Biblioteca de funciones matematicas\n",
    "#from numpy.random import randn"
   ]
  },
  {
   "cell_type": "code",
   "execution_count": 59,
   "metadata": {},
   "outputs": [
    {
     "name": "stdout",
     "output_type": "stream",
     "text": [
      "0.4797097059126497\n"
     ]
    }
   ],
   "source": [
    "answer = None\n",
    "x = np.random.rand()\n",
    "print(x)"
   ]
  },
  {
   "cell_type": "code",
   "execution_count": 23,
   "metadata": {},
   "outputs": [
    {
     "name": "stdout",
     "output_type": "stream",
     "text": [
      "0.12337501183985677 Menor que 1\n"
     ]
    }
   ],
   "source": [
    "if x > 1:\n",
    "    answer = \"Mayor que 1\"\n",
    "else:\n",
    "    answer = \"Menor que 1\"\n",
    "print(x, answer)"
   ]
  },
  {
   "cell_type": "code",
   "execution_count": 60,
   "metadata": {},
   "outputs": [
    {
     "name": "stdout",
     "output_type": "stream",
     "text": [
      "0.4797097059126497\n",
      "Entre -1 y 1\n"
     ]
    }
   ],
   "source": [
    "if x > 1:\n",
    "    answer = \"Es mayor que 1\"\n",
    "else:\n",
    "    if x >= -1:\n",
    "        answer = \"Entre -1 y 1\"\n",
    "    else:\n",
    "        answer = \"Menor que 1\"\n",
    "print(x)\n",
    "print(answer) "
   ]
  },
  {
   "cell_type": "code",
   "execution_count": 61,
   "metadata": {},
   "outputs": [
    {
     "name": "stdout",
     "output_type": "stream",
     "text": [
      "0.4797097059126497\n",
      "Entre -1 y 1\n"
     ]
    }
   ],
   "source": [
    "if x > 1:\n",
    "    answer = \"Es mayor que 1\"\n",
    "elif x >= -1:\n",
    "    answer = \"Entre -1 y 1\"\n",
    "else:\n",
    "    answer = \"Menor que 1\"\n",
    "\n",
    "print(x)\n",
    "print(answer)"
   ]
  },
  {
   "cell_type": "code",
   "execution_count": null,
   "metadata": {},
   "outputs": [],
   "source": []
  }
 ],
 "metadata": {
  "kernelspec": {
   "display_name": "Python 3",
   "language": "python",
   "name": "python3"
  },
  "language_info": {
   "codemirror_mode": {
    "name": "ipython",
    "version": 3
   },
   "file_extension": ".py",
   "mimetype": "text/x-python",
   "name": "python",
   "nbconvert_exporter": "python",
   "pygments_lexer": "ipython3",
   "version": "3.6.4"
  }
 },
 "nbformat": 4,
 "nbformat_minor": 2
}
